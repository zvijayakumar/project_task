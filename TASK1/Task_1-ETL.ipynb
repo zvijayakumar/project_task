{
 "cells": [
  {
   "cell_type": "code",
   "execution_count": 16,
   "id": "52ff9be2-204b-4136-86f2-9d502b31aa0b",
   "metadata": {
    "tags": []
   },
   "outputs": [],
   "source": [
    "import pandas as pd\n",
    "import sqlite3\n",
    "from datetime import datetime\n",
    "import os"
   ]
  },
  {
   "cell_type": "code",
   "execution_count": null,
   "id": "6372cb43-9a9e-4929-83eb-e16139c1136e",
   "metadata": {},
   "outputs": [],
   "source": []
  },
  {
   "cell_type": "code",
   "execution_count": 17,
   "id": "6edd1835-b6f5-4198-b171-e28bd4ac86bd",
   "metadata": {
    "tags": []
   },
   "outputs": [],
   "source": [
    "# data ingestion read the parquet file using the pandas. As CSV file format is not efficient file format for storage. So using the parquet and attaching the csv for reference\n",
    "def ingest_data(parquet_file):\n",
    "    \n",
    "    # Check if the file exists\n",
    "    if not os.path.exists(csv_file):\n",
    "        raise FileNotFoundError(f\"The file {csv_file} does not exist.\")\n",
    "    \n",
    "    df = pd.read_csv(csv_file)\n",
    "    \n",
    "    # Check if the DataFrame is empty\n",
    "    if df.empty:\n",
    "        raise ValueError(f\"The file {csv_file} contains no data.\")\n",
    "        \n",
    "    print(\"Printing the first 5 rows\",df.head(5))\n",
    "    return df\n",
    "\n",
    "# data cleaning\n",
    "def clean_data(df):\n",
    "    # dropping the missing null values\n",
    "    df.dropna(inplace=True)  \n",
    "    \n",
    "    # Coverting the timestamp format\n",
    "    df['timestamp'] = pd.to_datetime(df['timestamp'])\n",
    "    \n",
    "    return df"
   ]
  },
  {
   "cell_type": "code",
   "execution_count": null,
   "id": "31f15690-1318-4d52-b86f-497f2c334d79",
   "metadata": {},
   "outputs": [],
   "source": []
  },
  {
   "cell_type": "code",
   "execution_count": 43,
   "id": "21a43161-7958-4766-bf5a-8a51dd1e798d",
   "metadata": {
    "tags": []
   },
   "outputs": [],
   "source": [
    "# data transformation\n",
    "def transform_data(df):\n",
    "    # Calculate interaction counts per user and product\n",
    "    df['interaction_count_user'] = df.groupby('user_id')['interaction_id'].transform('count')\n",
    "    df['interaction_count_user_product'] = df.groupby(['user_id', 'product_id'])['interaction_id'].transform('count')\n",
    "\n",
    "    return df"
   ]
  },
  {
   "cell_type": "code",
   "execution_count": null,
   "id": "db43595f-80a8-4856-a56f-2095dd3e4088",
   "metadata": {},
   "outputs": [],
   "source": []
  },
  {
   "cell_type": "code",
   "execution_count": 45,
   "id": "5dd26b0e-7b5e-44ed-968f-c3984bbd6b62",
   "metadata": {
    "tags": []
   },
   "outputs": [],
   "source": [
    "# Function to load data into a SQLite database\n",
    "def load_data(df, db_file):\n",
    "    try:\n",
    "        # connect to the SQLite database (or create it if it doesn't exist)\n",
    "        conn = sqlite3.connect(db_file)\n",
    "        cursor = conn.cursor()\n",
    "        \n",
    "        # create the interactions table if it doesn't exist\n",
    "        cursor.execute('''\n",
    "            CREATE TABLE IF NOT EXISTS interactions (\n",
    "                interaction_id INTEGER PRIMARY KEY,\n",
    "                user_id INTEGER,\n",
    "                product_id INTEGER,\n",
    "                action TEXT,\n",
    "                timestamp TIMESTAMP,\n",
    "                interaction_count_user INTEGER,\n",
    "                interaction_count_user_product INTEGER\n",
    "            )\n",
    "        ''')\n",
    "        \n",
    "        df.to_sql('interactions', conn, if_exists='replace', index=False)\n",
    "        \n",
    "        # commit the changes and close the connection\n",
    "        conn.commit()\n",
    "    except sqlite3.Error as e:\n",
    "        print(f\"An error occurred: {e}\")\n",
    "    finally:\n",
    "        if conn:\n",
    "            conn.close()"
   ]
  },
  {
   "cell_type": "code",
   "execution_count": null,
   "id": "80a7c90b-ece7-4faf-b2d1-2faf840dbc68",
   "metadata": {},
   "outputs": [],
   "source": []
  },
  {
   "cell_type": "code",
   "execution_count": 46,
   "id": "14a4de18-c8ae-4ae1-9677-17a1c30950c8",
   "metadata": {
    "tags": []
   },
   "outputs": [
    {
     "name": "stdout",
     "output_type": "stream",
     "text": [
      "Printing the first 5 rows    interaction_id  user_id  product_id    action            timestamp\n",
      "0           10001      101         201     click  2024-07-01 12:00:00\n",
      "1           10002      102         202      view  2024-07-01 12:05:00\n",
      "2           10003      101         201  purchase  2024-07-01 12:10:00\n",
      "3           10004      103         203     click  2024-07-01 12:15:00\n",
      "4           10005      102         202      view  2024-07-01 12:20:00\n",
      "ETL process completed.\n"
     ]
    }
   ],
   "source": [
    "if __name__ == \"__main__\":\n",
    "    # Step 1: Data ingestion\n",
    "    csv_file = 'interaction_data.csv'\n",
    "    df = ingest_data(csv_file)\n",
    "\n",
    "    # Step 2: Data cleaning\n",
    "    df = clean_data(df)\n",
    "\n",
    "    # Step 3: Data Transformation\n",
    "    df = transform_data(df)\n",
    "\n",
    "    # Step 4: DataLoading\n",
    "    db_file = 'iCustomerDB.db'  # SQLite database file\n",
    "    load_data(df, db_file)\n",
    "\n",
    "    print(\"ETL process completed.\")\n"
   ]
  },
  {
   "cell_type": "code",
   "execution_count": null,
   "id": "ec5a8514-52a6-4b8a-9739-f81bed7fba3e",
   "metadata": {},
   "outputs": [],
   "source": []
  },
  {
   "cell_type": "code",
   "execution_count": null,
   "id": "1d04a675-37d6-4dcb-82f9-00757746bb5c",
   "metadata": {},
   "outputs": [],
   "source": []
  }
 ],
 "metadata": {
  "kernelspec": {
   "display_name": "Python 3 (ipykernel)",
   "language": "python",
   "name": "python3"
  },
  "language_info": {
   "codemirror_mode": {
    "name": "ipython",
    "version": 3
   },
   "file_extension": ".py",
   "mimetype": "text/x-python",
   "name": "python",
   "nbconvert_exporter": "python",
   "pygments_lexer": "ipython3",
   "version": "3.11.5"
  }
 },
 "nbformat": 4,
 "nbformat_minor": 5
}
